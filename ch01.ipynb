{
 "cells": [
  {
   "cell_type": "code",
   "execution_count": null,
   "id": "9baab6ff",
   "metadata": {},
   "outputs": [],
   "source": [
    "1 + 1"
   ]
  },
  {
   "cell_type": "code",
   "execution_count": null,
   "id": "207198a7",
   "metadata": {},
   "outputs": [],
   "source": [
    "1 + 1 # <-- 더하기 ㅋ ㅋ"
   ]
  },
  {
   "cell_type": "code",
   "execution_count": null,
   "id": "a52edaf6",
   "metadata": {},
   "outputs": [],
   "source": [
    "# 더하기를 실행하는 코드임\n",
    "1 + 1"
   ]
  },
  {
   "cell_type": "code",
   "execution_count": null,
   "id": "79116404",
   "metadata": {},
   "outputs": [],
   "source": [
    "for n in range(3) :\n",
    "    print(n)"
   ]
  },
  {
   "cell_type": "code",
   "execution_count": null,
   "id": "6ca981a7",
   "metadata": {},
   "outputs": [],
   "source": [
    "print('다음은 죠타로..')"
   ]
  },
  {
   "cell_type": "code",
   "execution_count": null,
   "id": "b14789bf",
   "metadata": {},
   "outputs": [],
   "source": [
    "print(\"왼손은.. 거들뿐..!\")"
   ]
  },
  {
   "cell_type": "code",
   "execution_count": null,
   "id": "8cef3d69",
   "metadata": {},
   "outputs": [],
   "source": [
    "123412531235"
   ]
  },
  {
   "cell_type": "code",
   "execution_count": null,
   "id": "9ae9278a",
   "metadata": {},
   "outputs": [],
   "source": [
    "'죠타로'"
   ]
  },
  {
   "cell_type": "code",
   "execution_count": null,
   "id": "747e7584",
   "metadata": {},
   "outputs": [],
   "source": [
    "\"디오\""
   ]
  },
  {
   "cell_type": "code",
   "execution_count": null,
   "id": "a15ac773",
   "metadata": {},
   "outputs": [],
   "source": [
    "'''abc'''"
   ]
  },
  {
   "cell_type": "code",
   "execution_count": null,
   "id": "7ffb8f8c",
   "metadata": {},
   "outputs": [],
   "source": [
    "\"\"\"abc\"\"\""
   ]
  },
  {
   "cell_type": "code",
   "execution_count": null,
   "id": "0202b69f",
   "metadata": {},
   "outputs": [],
   "source": [
    "\"it''s mine\""
   ]
  },
  {
   "cell_type": "code",
   "execution_count": null,
   "id": "0610dbe0",
   "metadata": {},
   "outputs": [],
   "source": [
    "\"it's mine\""
   ]
  },
  {
   "cell_type": "code",
   "execution_count": null,
   "id": "561b96d4",
   "metadata": {},
   "outputs": [],
   "source": [
    "'''it's mine'''"
   ]
  },
  {
   "cell_type": "code",
   "execution_count": null,
   "id": "693c8a0c",
   "metadata": {},
   "outputs": [],
   "source": [
    "'it's mine"
   ]
  },
  {
   "cell_type": "code",
   "execution_count": null,
   "id": "d03b85b3",
   "metadata": {},
   "outputs": [],
   "source": [
    "'it\\'s mine'"
   ]
  },
  {
   "cell_type": "code",
   "execution_count": null,
   "id": "e03419ae",
   "metadata": {},
   "outputs": [],
   "source": [
    "\"That's okay\""
   ]
  },
  {
   "cell_type": "code",
   "execution_count": null,
   "id": "f651e659",
   "metadata": {},
   "outputs": [],
   "source": [
    "print('asdf' + 'asdf' + )"
   ]
  },
  {
   "cell_type": "code",
   "execution_count": null,
   "id": "ae425c0f",
   "metadata": {},
   "outputs": [],
   "source": [
    "print('asdf' + 'asdfasdf')"
   ]
  },
  {
   "cell_type": "code",
   "execution_count": null,
   "id": "46d2d8ca",
   "metadata": {},
   "outputs": [],
   "source": [
    "print('this is ydg')"
   ]
  },
  {
   "cell_type": "code",
   "execution_count": null,
   "id": "ceb54a8e",
   "metadata": {},
   "outputs": [],
   "source": [
    "text = \"see\""
   ]
  },
  {
   "cell_type": "code",
   "execution_count": null,
   "id": "a6c8544a",
   "metadata": {},
   "outputs": [],
   "source": [
    "print(text[0])"
   ]
  },
  {
   "cell_type": "code",
   "execution_count": null,
   "id": "3719a24c",
   "metadata": {},
   "outputs": [],
   "source": [
    "for i in range(len(text)) :\n",
    "    print(text[i])"
   ]
  },
  {
   "cell_type": "code",
   "execution_count": null,
   "id": "ddf39392",
   "metadata": {},
   "outputs": [],
   "source": [
    "text[-1]"
   ]
  },
  {
   "cell_type": "code",
   "execution_count": null,
   "id": "83a7827b",
   "metadata": {},
   "outputs": [],
   "source": [
    "text[0]"
   ]
  },
  {
   "cell_type": "code",
   "execution_count": null,
   "id": "f362bee1",
   "metadata": {},
   "outputs": [],
   "source": [
    "text[2:]"
   ]
  },
  {
   "cell_type": "code",
   "execution_count": null,
   "id": "df315a94",
   "metadata": {},
   "outputs": [],
   "source": [
    "text[:]"
   ]
  },
  {
   "cell_type": "code",
   "execution_count": null,
   "id": "298a0e6e",
   "metadata": {},
   "outputs": [],
   "source": [
    "text[:3]"
   ]
  },
  {
   "cell_type": "code",
   "execution_count": null,
   "id": "e1bb6763",
   "metadata": {},
   "outputs": [],
   "source": [
    "text[:6]"
   ]
  },
  {
   "cell_type": "code",
   "execution_count": null,
   "id": "cd40d8b8",
   "metadata": {},
   "outputs": [],
   "source": [
    "text[:-1]"
   ]
  },
  {
   "cell_type": "code",
   "execution_count": null,
   "id": "470a960f",
   "metadata": {},
   "outputs": [],
   "source": [
    "2**2 # 제곱"
   ]
  },
  {
   "cell_type": "code",
   "execution_count": null,
   "id": "5fda0d67",
   "metadata": {},
   "outputs": [],
   "source": [
    "13 ** 2"
   ]
  },
  {
   "cell_type": "code",
   "execution_count": null,
   "id": "31c92961",
   "metadata": {},
   "outputs": [],
   "source": [
    "100 == 100"
   ]
  },
  {
   "cell_type": "code",
   "execution_count": null,
   "id": "63321554",
   "metadata": {},
   "outputs": [],
   "source": [
    "300 == 100"
   ]
  },
  {
   "cell_type": "code",
   "execution_count": null,
   "id": "718c3a24",
   "metadata": {},
   "outputs": [],
   "source": [
    "dic = {\"jotaro\" : 'Star Platina' , \"Dio\" : \"The World\"}"
   ]
  },
  {
   "cell_type": "code",
   "execution_count": null,
   "id": "0fe41d42",
   "metadata": {},
   "outputs": [],
   "source": [
    "dic[\"jotaro\"]"
   ]
  },
  {
   "cell_type": "code",
   "execution_count": null,
   "id": "848a95b6",
   "metadata": {},
   "outputs": [],
   "source": [
    "print(dic)"
   ]
  },
  {
   "cell_type": "code",
   "execution_count": null,
   "id": "0a13130d",
   "metadata": {},
   "outputs": [],
   "source": [
    "score = 80\n",
    "if score >= 70 :\n",
    "    print(\"okay\")\n",
    "else : \n",
    "    print(\"sex\")"
   ]
  },
  {
   "cell_type": "code",
   "execution_count": null,
   "id": "4dc204f2",
   "metadata": {},
   "outputs": [],
   "source": [
    "score = [\"A\", \"B\", \"C\" , \"D\", \"E\", \"F\"]\n",
    "\n",
    "\n",
    "def test(t_score) :\n",
    "    if t_score in score[:1] : \n",
    "        print(\"pass\")\n",
    "    elif t_score == score[2] :\n",
    "        print(\"retake\") \n",
    "    else :\n",
    "        print(\"fail\")\n",
    "    \n"
   ]
  },
  {
   "cell_type": "code",
   "execution_count": null,
   "id": "f2276e29",
   "metadata": {},
   "outputs": [],
   "source": [
    "test(my_score)"
   ]
  },
  {
   "cell_type": "code",
   "execution_count": null,
   "id": "8c65ecd5",
   "metadata": {},
   "outputs": [],
   "source": [
    "my_score = \"A\""
   ]
  },
  {
   "cell_type": "code",
   "execution_count": null,
   "id": "d755f0bb",
   "metadata": {},
   "outputs": [],
   "source": [
    "test(my_score)"
   ]
  },
  {
   "cell_type": "code",
   "execution_count": null,
   "id": "439495d8",
   "metadata": {},
   "outputs": [],
   "source": [
    "my_score = \"A\"\n",
    "test(my_score)"
   ]
  },
  {
   "cell_type": "code",
   "execution_count": null,
   "id": "cda4d4ed",
   "metadata": {},
   "outputs": [],
   "source": []
  },
  {
   "cell_type": "code",
   "execution_count": null,
   "id": "ab0e2c9d",
   "metadata": {},
   "outputs": [],
   "source": [
    "print(score)"
   ]
  },
  {
   "cell_type": "code",
   "execution_count": null,
   "id": "22793749",
   "metadata": {},
   "outputs": [],
   "source": [
    "test('A')"
   ]
  },
  {
   "cell_type": "code",
   "execution_count": null,
   "id": "56726477",
   "metadata": {},
   "outputs": [],
   "source": [
    "for i in score :\n",
    "    test(i)"
   ]
  },
  {
   "cell_type": "code",
   "execution_count": null,
   "id": "e1d12811",
   "metadata": {},
   "outputs": [],
   "source": [
    "score = [\"A\", \"B\", \"C\" , \"D\", \"E\", \"F\"]\n",
    "def test(t_score) :\n",
    "    if t_score in score[:1] : \n",
    "        print(\"pass\")\n",
    "    elif t_score == score[2] :\n",
    "        print(\"retake\") \n",
    "    else :\n",
    "        print(\"fail\")\n",
    "\n",
    "for i in score :\n",
    "    print(i)\n",
    "    test(i)"
   ]
  },
  {
   "cell_type": "code",
   "execution_count": null,
   "id": "b3437cf7",
   "metadata": {},
   "outputs": [],
   "source": [
    "bb = [2,3,4,5,6]\n",
    "even = [num for num in bb if num%2 == 0]\n",
    "even"
   ]
  },
  {
   "cell_type": "code",
   "execution_count": null,
   "id": "7a1c0003",
   "metadata": {},
   "outputs": [],
   "source": [
    "udf_01(123)"
   ]
  },
  {
   "cell_type": "code",
   "execution_count": 3,
   "id": "933b7898",
   "metadata": {},
   "outputs": [],
   "source": [
    "def udf_01(x) :\n",
    "    print(x)"
   ]
  },
  {
   "cell_type": "code",
   "execution_count": null,
   "id": "73a98525",
   "metadata": {},
   "outputs": [],
   "source": [
    "udf_01(' 니미씨 발')"
   ]
  },
  {
   "cell_type": "code",
   "execution_count": null,
   "id": "407238bb",
   "metadata": {},
   "outputs": [],
   "source": [
    "udf_01('ssap')"
   ]
  },
  {
   "cell_type": "code",
   "execution_count": 4,
   "id": "0db63310",
   "metadata": {},
   "outputs": [
    {
     "name": "stdout",
     "output_type": "stream",
     "text": [
      "asdf\n"
     ]
    }
   ],
   "source": [
    "udf_01('asdf')"
   ]
  },
  {
   "cell_type": "code",
   "execution_count": 5,
   "id": "48adfa0f",
   "metadata": {},
   "outputs": [],
   "source": [
    "import numpy as np"
   ]
  },
  {
   "cell_type": "code",
   "execution_count": 6,
   "id": "f5bda904",
   "metadata": {},
   "outputs": [
    {
     "data": {
      "text/plain": [
       "array([1, 2, 3])"
      ]
     },
     "execution_count": 6,
     "metadata": {},
     "output_type": "execute_result"
    }
   ],
   "source": [
    "np.array([1,2,3])"
   ]
  },
  {
   "cell_type": "code",
   "execution_count": 7,
   "id": "7fb3c456",
   "metadata": {},
   "outputs": [
    {
     "data": {
      "text/plain": [
       "array([1, 2, 3, 4, 5, 6])"
      ]
     },
     "execution_count": 7,
     "metadata": {},
     "output_type": "execute_result"
    }
   ],
   "source": [
    "np.array([1,2,3,4,5,6])"
   ]
  },
  {
   "cell_type": "code",
   "execution_count": 11,
   "id": "14c64013",
   "metadata": {},
   "outputs": [],
   "source": [
    "import pandas as pd"
   ]
  },
  {
   "cell_type": "code",
   "execution_count": 12,
   "id": "211dc27f",
   "metadata": {},
   "outputs": [
    {
     "name": "stderr",
     "output_type": "stream",
     "text": [
      "<ipython-input-12-fa15c544da3b>:1: DeprecationWarning: The default dtype for empty Series will be 'object' instead of 'float64' in a future version. Specify a dtype explicitly to silence this warning.\n",
      "  pd.Series()\n"
     ]
    },
    {
     "data": {
      "text/plain": [
       "Series([], dtype: float64)"
      ]
     },
     "execution_count": 12,
     "metadata": {},
     "output_type": "execute_result"
    }
   ],
   "source": [
    "pd.Series()"
   ]
  }
 ],
 "metadata": {
  "kernelspec": {
   "display_name": "Python 3",
   "language": "python",
   "name": "python3"
  },
  "language_info": {
   "codemirror_mode": {
    "name": "ipython",
    "version": 3
   },
   "file_extension": ".py",
   "mimetype": "text/x-python",
   "name": "python",
   "nbconvert_exporter": "python",
   "pygments_lexer": "ipython3",
   "version": "3.8.7"
  }
 },
 "nbformat": 4,
 "nbformat_minor": 5
}
