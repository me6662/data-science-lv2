{
 "cells": [
  {
   "cell_type": "code",
   "execution_count": 1,
   "id": "482cd357",
   "metadata": {},
   "outputs": [],
   "source": [
    "import pandas as pd"
   ]
  },
  {
   "cell_type": "code",
   "execution_count": 2,
   "id": "db549e78",
   "metadata": {},
   "outputs": [],
   "source": [
    "def sum_sex(x,y) :\n",
    "    result = x + y \n",
    "    return result"
   ]
  },
  {
   "cell_type": "code",
   "execution_count": 3,
   "id": "cc56f204",
   "metadata": {},
   "outputs": [
    {
     "data": {
      "text/plain": [
       "6"
      ]
     },
     "execution_count": 3,
     "metadata": {},
     "output_type": "execute_result"
    }
   ],
   "source": [
    "sum_sex(2,4)"
   ]
  },
  {
   "cell_type": "code",
   "execution_count": 5,
   "id": "f6e0f3d7",
   "metadata": {},
   "outputs": [
    {
     "data": {
      "text/plain": [
       "0     6\n",
       "1     8\n",
       "2    10\n",
       "dtype: int64"
      ]
     },
     "execution_count": 5,
     "metadata": {},
     "output_type": "execute_result"
    }
   ],
   "source": [
    "sum_sex(pd.Series([2,4,6]), 4)"
   ]
  },
  {
   "cell_type": "code",
   "execution_count": 6,
   "id": "05296140",
   "metadata": {},
   "outputs": [],
   "source": [
    "def sum_fuck(x, y) :\n",
    "    result = x.sum() + y\n",
    "    return result"
   ]
  },
  {
   "cell_type": "code",
   "execution_count": 8,
   "id": "c795a7cc",
   "metadata": {},
   "outputs": [
    {
     "data": {
      "text/plain": [
       "13"
      ]
     },
     "execution_count": 8,
     "metadata": {},
     "output_type": "execute_result"
    }
   ],
   "source": [
    "sum_fuck(pd.Series([2,3,4]), 4)"
   ]
  },
  {
   "cell_type": "code",
   "execution_count": 14,
   "id": "7ea1bf68",
   "metadata": {},
   "outputs": [],
   "source": [
    "def mean_sexy(x) :\n",
    "    result = round(x.mean(), 3)\n",
    "    return result"
   ]
  },
  {
   "cell_type": "code",
   "execution_count": 16,
   "id": "2ceac372",
   "metadata": {},
   "outputs": [
    {
     "data": {
      "text/plain": [
       "11.029"
      ]
     },
     "execution_count": 16,
     "metadata": {},
     "output_type": "execute_result"
    }
   ],
   "source": [
    "mean_sexy(pd.Series([5,6,8,17,19.14654]))"
   ]
  },
  {
   "cell_type": "code",
   "execution_count": 18,
   "id": "2c7eff32",
   "metadata": {},
   "outputs": [],
   "source": [
    "def mean_sex(x, digit) :\n",
    "    result = round(x.mean(), digit)\n",
    "    return result"
   ]
  },
  {
   "cell_type": "code",
   "execution_count": 19,
   "id": "eef2ccaa",
   "metadata": {},
   "outputs": [
    {
     "data": {
      "text/plain": [
       "11.03"
      ]
     },
     "execution_count": 19,
     "metadata": {},
     "output_type": "execute_result"
    }
   ],
   "source": [
    "mean_sex(pd.Series([5,6,8,17,19.14654]), 2)"
   ]
  },
  {
   "cell_type": "code",
   "execution_count": 21,
   "id": "3aae40f5",
   "metadata": {},
   "outputs": [],
   "source": [
    "def mean_sex2(x, digit = 4) :\n",
    "    result = round(x.mean(), digit)\n",
    "    return result"
   ]
  },
  {
   "cell_type": "code",
   "execution_count": 22,
   "id": "ef4c9356",
   "metadata": {},
   "outputs": [
    {
     "data": {
      "text/plain": [
       "11.0293"
      ]
     },
     "execution_count": 22,
     "metadata": {},
     "output_type": "execute_result"
    }
   ],
   "source": [
    "mean_sex2(pd.Series([5,6,8,17,19.14654]))"
   ]
  },
  {
   "cell_type": "code",
   "execution_count": 42,
   "id": "07b69a7d",
   "metadata": {},
   "outputs": [],
   "source": [
    "import math\n",
    "def powsex(x) :\n",
    "    return math.sqrt(x.pow(2).sum()) # or **0.5"
   ]
  },
  {
   "cell_type": "code",
   "execution_count": 43,
   "id": "03703c6f",
   "metadata": {},
   "outputs": [
    {
     "data": {
      "text/plain": [
       "7.0710678118654755"
      ]
     },
     "execution_count": 43,
     "metadata": {},
     "output_type": "execute_result"
    }
   ],
   "source": [
    "powsex(pd.Series([3,4,5]))"
   ]
  },
  {
   "cell_type": "code",
   "execution_count": 44,
   "id": "605e20af",
   "metadata": {},
   "outputs": [],
   "source": [
    "def std_sex(x) :\n",
    "    result = (x - x.mean()) / x.std()\n",
    "    return result"
   ]
  },
  {
   "cell_type": "code",
   "execution_count": 46,
   "id": "15893f92",
   "metadata": {},
   "outputs": [
    {
     "data": {
      "text/plain": [
       "0   -1.508380\n",
       "1   -0.952661\n",
       "2   -0.396942\n",
       "3    0.158777\n",
       "4    0.714496\n",
       "5    0.714496\n",
       "6    1.270215\n",
       "dtype: float64"
      ]
     },
     "execution_count": 46,
     "metadata": {},
     "output_type": "execute_result"
    }
   ],
   "source": [
    "std_sex(pd.Series([4,5,6,7,8,8,9]))"
   ]
  },
  {
   "cell_type": "code",
   "execution_count": null,
   "id": "4a16627d",
   "metadata": {},
   "outputs": [],
   "source": []
  },
  {
   "cell_type": "code",
   "execution_count": null,
   "id": "e075e0eb",
   "metadata": {},
   "outputs": [],
   "source": []
  },
  {
   "cell_type": "code",
   "execution_count": null,
   "id": "95d11a2a",
   "metadata": {},
   "outputs": [],
   "source": []
  },
  {
   "cell_type": "code",
   "execution_count": null,
   "id": "f06cd452",
   "metadata": {},
   "outputs": [],
   "source": []
  },
  {
   "cell_type": "code",
   "execution_count": null,
   "id": "f8fa1171",
   "metadata": {},
   "outputs": [],
   "source": []
  },
  {
   "cell_type": "code",
   "execution_count": null,
   "id": "ad65ca86",
   "metadata": {},
   "outputs": [],
   "source": []
  }
 ],
 "metadata": {
  "kernelspec": {
   "display_name": "Python 3",
   "language": "python",
   "name": "python3"
  },
  "language_info": {
   "codemirror_mode": {
    "name": "ipython",
    "version": 3
   },
   "file_extension": ".py",
   "mimetype": "text/x-python",
   "name": "python",
   "nbconvert_exporter": "python",
   "pygments_lexer": "ipython3",
   "version": "3.8.7"
  }
 },
 "nbformat": 4,
 "nbformat_minor": 5
}
