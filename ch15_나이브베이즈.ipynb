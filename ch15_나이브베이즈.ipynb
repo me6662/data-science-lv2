{
 "cells": [
  {
   "cell_type": "code",
   "execution_count": 1,
   "id": "4440951a",
   "metadata": {},
   "outputs": [],
   "source": [
    "# 나이브 베이즈\n",
    "# 사전확률, 사후확률"
   ]
  },
  {
   "cell_type": "code",
   "execution_count": 2,
   "id": "1c60f19b",
   "metadata": {},
   "outputs": [],
   "source": [
    "import pandas as pd\n",
    "from sklearn.naive_bayes import GaussianNB"
   ]
  },
  {
   "cell_type": "code",
   "execution_count": 4,
   "id": "1808f91a",
   "metadata": {},
   "outputs": [
    {
     "data": {
      "text/html": [
       "<div>\n",
       "<style scoped>\n",
       "    .dataframe tbody tr th:only-of-type {\n",
       "        vertical-align: middle;\n",
       "    }\n",
       "\n",
       "    .dataframe tbody tr th {\n",
       "        vertical-align: top;\n",
       "    }\n",
       "\n",
       "    .dataframe thead th {\n",
       "        text-align: right;\n",
       "    }\n",
       "</style>\n",
       "<table border=\"1\" class=\"dataframe\">\n",
       "  <thead>\n",
       "    <tr style=\"text-align: right;\">\n",
       "      <th></th>\n",
       "      <th>Sepal.Length</th>\n",
       "      <th>Sepal.Width</th>\n",
       "      <th>Petal.Length</th>\n",
       "      <th>Petal.Width</th>\n",
       "      <th>Species</th>\n",
       "    </tr>\n",
       "  </thead>\n",
       "  <tbody>\n",
       "    <tr>\n",
       "      <th>0</th>\n",
       "      <td>5.1</td>\n",
       "      <td>3.5</td>\n",
       "      <td>1.4</td>\n",
       "      <td>0.2</td>\n",
       "      <td>setosa</td>\n",
       "    </tr>\n",
       "    <tr>\n",
       "      <th>1</th>\n",
       "      <td>4.9</td>\n",
       "      <td>3.0</td>\n",
       "      <td>1.4</td>\n",
       "      <td>0.2</td>\n",
       "      <td>setosa</td>\n",
       "    </tr>\n",
       "  </tbody>\n",
       "</table>\n",
       "</div>"
      ],
      "text/plain": [
       "   Sepal.Length  Sepal.Width  Petal.Length  Petal.Width Species\n",
       "0           5.1          3.5           1.4          0.2  setosa\n",
       "1           4.9          3.0           1.4          0.2  setosa"
      ]
     },
     "execution_count": 4,
     "metadata": {},
     "output_type": "execute_result"
    }
   ],
   "source": [
    "df = pd.read_csv(\"iris.csv\")\n",
    "df.head(2)"
   ]
  },
  {
   "cell_type": "code",
   "execution_count": 6,
   "id": "0e513f37",
   "metadata": {},
   "outputs": [
    {
     "data": {
      "text/html": [
       "<div>\n",
       "<style scoped>\n",
       "    .dataframe tbody tr th:only-of-type {\n",
       "        vertical-align: middle;\n",
       "    }\n",
       "\n",
       "    .dataframe tbody tr th {\n",
       "        vertical-align: top;\n",
       "    }\n",
       "\n",
       "    .dataframe thead th {\n",
       "        text-align: right;\n",
       "    }\n",
       "</style>\n",
       "<table border=\"1\" class=\"dataframe\">\n",
       "  <thead>\n",
       "    <tr style=\"text-align: right;\">\n",
       "      <th></th>\n",
       "      <th>Sepal.Length</th>\n",
       "      <th>Sepal.Width</th>\n",
       "      <th>Petal.Length</th>\n",
       "      <th>Petal.Width</th>\n",
       "      <th>Species</th>\n",
       "      <th>is_setosa</th>\n",
       "    </tr>\n",
       "  </thead>\n",
       "  <tbody>\n",
       "    <tr>\n",
       "      <th>0</th>\n",
       "      <td>5.1</td>\n",
       "      <td>3.5</td>\n",
       "      <td>1.4</td>\n",
       "      <td>0.2</td>\n",
       "      <td>setosa</td>\n",
       "      <td>1</td>\n",
       "    </tr>\n",
       "    <tr>\n",
       "      <th>1</th>\n",
       "      <td>4.9</td>\n",
       "      <td>3.0</td>\n",
       "      <td>1.4</td>\n",
       "      <td>0.2</td>\n",
       "      <td>setosa</td>\n",
       "      <td>1</td>\n",
       "    </tr>\n",
       "  </tbody>\n",
       "</table>\n",
       "</div>"
      ],
      "text/plain": [
       "   Sepal.Length  Sepal.Width  Petal.Length  Petal.Width Species  is_setosa\n",
       "0           5.1          3.5           1.4          0.2  setosa          1\n",
       "1           4.9          3.0           1.4          0.2  setosa          1"
      ]
     },
     "execution_count": 6,
     "metadata": {},
     "output_type": "execute_result"
    }
   ],
   "source": [
    "df[\"is_setosa\"] = (df[\"Species\"] == \"setosa\") + 0\n",
    "df.head(2)"
   ]
  },
  {
   "cell_type": "code",
   "execution_count": 7,
   "id": "263aa57e",
   "metadata": {},
   "outputs": [
    {
     "data": {
      "text/plain": [
       "0    100\n",
       "1     50\n",
       "Name: is_setosa, dtype: int64"
      ]
     },
     "execution_count": 7,
     "metadata": {},
     "output_type": "execute_result"
    }
   ],
   "source": [
    "df[\"is_setosa\"].value_counts()"
   ]
  },
  {
   "cell_type": "code",
   "execution_count": 8,
   "id": "645e87d4",
   "metadata": {},
   "outputs": [
    {
     "data": {
      "text/plain": [
       "0    0.666667\n",
       "1    0.333333\n",
       "Name: is_setosa, dtype: float64"
      ]
     },
     "execution_count": 8,
     "metadata": {},
     "output_type": "execute_result"
    }
   ],
   "source": [
    "df[\"is_setosa\"].value_counts(normalize = True) # 이게 사전확률"
   ]
  },
  {
   "cell_type": "code",
   "execution_count": 9,
   "id": "2bd218ce",
   "metadata": {},
   "outputs": [],
   "source": [
    "model = GaussianNB().fit(X = df.iloc[:, :4], y = df[\"is_setosa\"])"
   ]
  },
  {
   "cell_type": "code",
   "execution_count": 10,
   "id": "c076a2e2",
   "metadata": {},
   "outputs": [
    {
     "data": {
      "text/plain": [
       "array([0.66666667, 0.33333333])"
      ]
     },
     "execution_count": 10,
     "metadata": {},
     "output_type": "execute_result"
    }
   ],
   "source": [
    "model.class_prior_"
   ]
  },
  {
   "cell_type": "code",
   "execution_count": 11,
   "id": "55a9161e",
   "metadata": {},
   "outputs": [
    {
     "data": {
      "text/plain": [
       "array([[6.262, 2.872, 4.906, 1.676],\n",
       "       [5.006, 3.428, 1.462, 0.246]])"
      ]
     },
     "execution_count": 11,
     "metadata": {},
     "output_type": "execute_result"
    }
   ],
   "source": [
    "model.theta_"
   ]
  },
  {
   "cell_type": "code",
   "execution_count": 12,
   "id": "208185ef",
   "metadata": {},
   "outputs": [
    {
     "data": {
      "text/plain": [
       "array([[6.71160012e-010, 9.99999999e-001],\n",
       "       [4.00302403e-009, 9.99999996e-001],\n",
       "       [1.02351870e-009, 9.99999999e-001],\n",
       "       [2.76121831e-009, 9.99999997e-001],\n",
       "       [2.87820863e-010, 1.00000000e+000],\n",
       "       [3.55110797e-008, 9.99999964e-001],\n",
       "       [9.66021894e-010, 9.99999999e-001],\n",
       "       [1.30959533e-009, 9.99999999e-001],\n",
       "       [4.08140312e-009, 9.99999996e-001],\n",
       "       [4.28674522e-009, 9.99999996e-001],\n",
       "       [1.33377359e-009, 9.99999999e-001],\n",
       "       [1.84532267e-009, 9.99999998e-001],\n",
       "       [3.38128619e-009, 9.99999997e-001],\n",
       "       [5.20232440e-009, 9.99999995e-001],\n",
       "       [1.87082925e-009, 9.99999998e-001],\n",
       "       [1.24819214e-009, 9.99999999e-001],\n",
       "       [2.81930547e-009, 9.99999997e-001],\n",
       "       [1.54701681e-009, 9.99999998e-001],\n",
       "       [7.33966195e-008, 9.99999927e-001],\n",
       "       [4.73129136e-010, 1.00000000e+000],\n",
       "       [4.45844705e-008, 9.99999955e-001],\n",
       "       [4.58044453e-009, 9.99999995e-001],\n",
       "       [5.68754049e-010, 9.99999999e-001],\n",
       "       [3.23988692e-006, 9.99996760e-001],\n",
       "       [1.39641059e-007, 9.99999860e-001],\n",
       "       [1.83453526e-008, 9.99999982e-001],\n",
       "       [3.65165447e-008, 9.99999963e-001],\n",
       "       [1.56322356e-009, 9.99999998e-001],\n",
       "       [1.62717265e-009, 9.99999998e-001],\n",
       "       [4.21218256e-009, 9.99999996e-001],\n",
       "       [7.58667096e-009, 9.99999992e-001],\n",
       "       [8.28155076e-008, 9.99999917e-001],\n",
       "       [4.87996004e-011, 1.00000000e+000],\n",
       "       [6.74800449e-011, 1.00000000e+000],\n",
       "       [4.16954875e-009, 9.99999996e-001],\n",
       "       [2.19954663e-009, 9.99999998e-001],\n",
       "       [3.68284192e-009, 9.99999996e-001],\n",
       "       [2.29157404e-010, 1.00000000e+000],\n",
       "       [2.33444890e-009, 9.99999998e-001],\n",
       "       [1.79409824e-009, 9.99999998e-001],\n",
       "       [9.73835050e-010, 9.99999999e-001],\n",
       "       [5.98958216e-008, 9.99999940e-001],\n",
       "       [9.66496167e-010, 9.99999999e-001],\n",
       "       [8.69251361e-006, 9.99991307e-001],\n",
       "       [4.33115769e-007, 9.99999567e-001],\n",
       "       [7.58075174e-009, 9.99999992e-001],\n",
       "       [4.54587834e-010, 1.00000000e+000],\n",
       "       [1.09752810e-009, 9.99999999e-001],\n",
       "       [8.15317332e-010, 9.99999999e-001],\n",
       "       [1.33589188e-009, 9.99999999e-001],\n",
       "       [1.00000000e+000, 1.06857205e-109],\n",
       "       [1.00000000e+000, 6.21929944e-102],\n",
       "       [1.00000000e+000, 5.95805983e-124],\n",
       "       [1.00000000e+000, 4.96081507e-070],\n",
       "       [1.00000000e+000, 1.01443079e-107],\n",
       "       [1.00000000e+000, 1.44947298e-090],\n",
       "       [1.00000000e+000, 9.41447938e-116],\n",
       "       [1.00000000e+000, 1.40878104e-034],\n",
       "       [1.00000000e+000, 9.94122923e-099],\n",
       "       [1.00000000e+000, 1.33364660e-069],\n",
       "       [1.00000000e+000, 4.99612563e-041],\n",
       "       [1.00000000e+000, 2.21317195e-087],\n",
       "       [1.00000000e+000, 1.58989684e-060],\n",
       "       [1.00000000e+000, 1.46204910e-105],\n",
       "       [1.00000000e+000, 2.20068846e-055],\n",
       "       [1.00000000e+000, 2.04691481e-094],\n",
       "       [1.00000000e+000, 2.85937116e-099],\n",
       "       [1.00000000e+000, 5.31689772e-063],\n",
       "       [1.00000000e+000, 1.39773650e-102],\n",
       "       [1.00000000e+000, 1.78932098e-058],\n",
       "       [1.00000000e+000, 9.14854950e-131],\n",
       "       [1.00000000e+000, 2.72683804e-071],\n",
       "       [1.00000000e+000, 9.83679110e-122],\n",
       "       [1.00000000e+000, 3.88698406e-097],\n",
       "       [1.00000000e+000, 1.88514877e-084],\n",
       "       [1.00000000e+000, 4.69482828e-094],\n",
       "       [1.00000000e+000, 4.78843075e-114],\n",
       "       [1.00000000e+000, 6.24357181e-139],\n",
       "       [1.00000000e+000, 9.13368816e-101],\n",
       "       [1.00000000e+000, 8.51014877e-042],\n",
       "       [1.00000000e+000, 9.12551670e-055],\n",
       "       [1.00000000e+000, 5.71434104e-048],\n",
       "       [1.00000000e+000, 1.60533683e-062],\n",
       "       [1.00000000e+000, 8.44274392e-136],\n",
       "       [1.00000000e+000, 9.13750747e-099],\n",
       "       [1.00000000e+000, 5.08376170e-105],\n",
       "       [1.00000000e+000, 5.89826059e-113],\n",
       "       [1.00000000e+000, 3.80996717e-089],\n",
       "       [1.00000000e+000, 4.32983374e-073],\n",
       "       [1.00000000e+000, 9.02901478e-070],\n",
       "       [1.00000000e+000, 8.59054852e-082],\n",
       "       [1.00000000e+000, 1.10712111e-100],\n",
       "       [1.00000000e+000, 2.16865749e-066],\n",
       "       [1.00000000e+000, 8.16887057e-035],\n",
       "       [1.00000000e+000, 1.34722547e-077],\n",
       "       [1.00000000e+000, 2.86432287e-073],\n",
       "       [1.00000000e+000, 1.47554563e-077],\n",
       "       [1.00000000e+000, 1.55173167e-083],\n",
       "       [1.00000000e+000, 2.85291648e-030],\n",
       "       [1.00000000e+000, 9.94943945e-074],\n",
       "       [1.00000000e+000, 1.28688164e-253],\n",
       "       [1.00000000e+000, 4.86015211e-153],\n",
       "       [1.00000000e+000, 5.52499016e-220],\n",
       "       [1.00000000e+000, 9.66374765e-177],\n",
       "       [1.00000000e+000, 1.45895796e-217],\n",
       "       [1.00000000e+000, 2.90145852e-272],\n",
       "       [1.00000000e+000, 1.33814096e-109],\n",
       "       [1.00000000e+000, 2.70101499e-228],\n",
       "       [1.00000000e+000, 9.35073850e-192],\n",
       "       [1.00000000e+000, 8.88153917e-265],\n",
       "       [1.00000000e+000, 8.14870772e-162],\n",
       "       [1.00000000e+000, 2.00017978e-166],\n",
       "       [1.00000000e+000, 2.09464788e-193],\n",
       "       [1.00000000e+000, 1.73044150e-154],\n",
       "       [1.00000000e+000, 2.73434375e-190],\n",
       "       [1.00000000e+000, 1.03194235e-194],\n",
       "       [1.00000000e+000, 1.45235575e-171],\n",
       "       [1.00000000e+000, 2.55683518e-286],\n",
       "       [1.00000000e+000, 5.06032759e-312],\n",
       "       [1.00000000e+000, 5.63778576e-126],\n",
       "       [1.00000000e+000, 4.95216769e-221],\n",
       "       [1.00000000e+000, 1.28040017e-148],\n",
       "       [1.00000000e+000, 8.06738555e-274],\n",
       "       [1.00000000e+000, 2.89953965e-138],\n",
       "       [1.00000000e+000, 2.57442668e-204],\n",
       "       [1.00000000e+000, 1.31802751e-206],\n",
       "       [1.00000000e+000, 1.12177696e-132],\n",
       "       [1.00000000e+000, 6.84029053e-137],\n",
       "       [1.00000000e+000, 1.40258589e-197],\n",
       "       [1.00000000e+000, 1.75064031e-182],\n",
       "       [1.00000000e+000, 8.59036389e-222],\n",
       "       [1.00000000e+000, 2.64666557e-251],\n",
       "       [1.00000000e+000, 4.62185734e-205],\n",
       "       [1.00000000e+000, 1.15739602e-131],\n",
       "       [1.00000000e+000, 1.12676589e-154],\n",
       "       [1.00000000e+000, 5.84198140e-253],\n",
       "       [1.00000000e+000, 1.57035272e-219],\n",
       "       [1.00000000e+000, 7.00542706e-171],\n",
       "       [1.00000000e+000, 1.62375274e-131],\n",
       "       [1.00000000e+000, 5.42202653e-188],\n",
       "       [1.00000000e+000, 3.51252480e-222],\n",
       "       [1.00000000e+000, 1.06417461e-186],\n",
       "       [1.00000000e+000, 4.86015211e-153],\n",
       "       [1.00000000e+000, 4.57498816e-233],\n",
       "       [1.00000000e+000, 1.71389160e-236],\n",
       "       [1.00000000e+000, 4.06234779e-191],\n",
       "       [1.00000000e+000, 4.86093394e-150],\n",
       "       [1.00000000e+000, 1.33253783e-167],\n",
       "       [1.00000000e+000, 4.60036792e-199],\n",
       "       [1.00000000e+000, 1.62597097e-146]])"
      ]
     },
     "execution_count": 12,
     "metadata": {},
     "output_type": "execute_result"
    }
   ],
   "source": [
    "pred = model.predict_proba(df.iloc[:,:4])\n",
    "pred"
   ]
  },
  {
   "cell_type": "code",
   "execution_count": 13,
   "id": "f2af7706",
   "metadata": {},
   "outputs": [
    {
     "data": {
      "text/plain": [
       "array([1., 1., 1., 1.])"
      ]
     },
     "execution_count": 13,
     "metadata": {},
     "output_type": "execute_result"
    }
   ],
   "source": [
    "pred = pred[: , 1]\n",
    "pred[:4]"
   ]
  },
  {
   "cell_type": "code",
   "execution_count": 14,
   "id": "65185108",
   "metadata": {},
   "outputs": [],
   "source": [
    "from sklearn.metrics import accuracy_score"
   ]
  },
  {
   "cell_type": "code",
   "execution_count": 18,
   "id": "056efd86",
   "metadata": {},
   "outputs": [],
   "source": [
    "pred_class = (pred > 0.99) + 0"
   ]
  },
  {
   "cell_type": "code",
   "execution_count": 19,
   "id": "4a68c90f",
   "metadata": {},
   "outputs": [
    {
     "data": {
      "text/plain": [
       "1.0"
      ]
     },
     "execution_count": 19,
     "metadata": {},
     "output_type": "execute_result"
    }
   ],
   "source": [
    "accuracy_score(y_true = df[\"is_setosa\"], y_pred=pred_class)"
   ]
  },
  {
   "cell_type": "code",
   "execution_count": null,
   "id": "a9fa42d1",
   "metadata": {},
   "outputs": [],
   "source": [
    "# 문제 1"
   ]
  },
  {
   "cell_type": "code",
   "execution_count": 20,
   "id": "6ceed423",
   "metadata": {},
   "outputs": [
    {
     "data": {
      "text/html": [
       "<div>\n",
       "<style scoped>\n",
       "    .dataframe tbody tr th:only-of-type {\n",
       "        vertical-align: middle;\n",
       "    }\n",
       "\n",
       "    .dataframe tbody tr th {\n",
       "        vertical-align: top;\n",
       "    }\n",
       "\n",
       "    .dataframe thead th {\n",
       "        text-align: right;\n",
       "    }\n",
       "</style>\n",
       "<table border=\"1\" class=\"dataframe\">\n",
       "  <thead>\n",
       "    <tr style=\"text-align: right;\">\n",
       "      <th></th>\n",
       "      <th>Pregnancies</th>\n",
       "      <th>Glucose</th>\n",
       "      <th>BloodPressure</th>\n",
       "      <th>SkinThickness</th>\n",
       "      <th>Insulin</th>\n",
       "      <th>BMI</th>\n",
       "      <th>DiabetesPedigreeFunction</th>\n",
       "      <th>Age</th>\n",
       "      <th>Outcome</th>\n",
       "    </tr>\n",
       "  </thead>\n",
       "  <tbody>\n",
       "    <tr>\n",
       "      <th>0</th>\n",
       "      <td>6</td>\n",
       "      <td>148</td>\n",
       "      <td>72</td>\n",
       "      <td>35</td>\n",
       "      <td>0</td>\n",
       "      <td>33.6</td>\n",
       "      <td>0.627</td>\n",
       "      <td>50</td>\n",
       "      <td>1</td>\n",
       "    </tr>\n",
       "    <tr>\n",
       "      <th>1</th>\n",
       "      <td>1</td>\n",
       "      <td>85</td>\n",
       "      <td>66</td>\n",
       "      <td>29</td>\n",
       "      <td>0</td>\n",
       "      <td>26.6</td>\n",
       "      <td>0.351</td>\n",
       "      <td>31</td>\n",
       "      <td>0</td>\n",
       "    </tr>\n",
       "    <tr>\n",
       "      <th>2</th>\n",
       "      <td>8</td>\n",
       "      <td>183</td>\n",
       "      <td>64</td>\n",
       "      <td>0</td>\n",
       "      <td>0</td>\n",
       "      <td>23.3</td>\n",
       "      <td>0.672</td>\n",
       "      <td>32</td>\n",
       "      <td>1</td>\n",
       "    </tr>\n",
       "    <tr>\n",
       "      <th>3</th>\n",
       "      <td>1</td>\n",
       "      <td>89</td>\n",
       "      <td>66</td>\n",
       "      <td>23</td>\n",
       "      <td>94</td>\n",
       "      <td>28.1</td>\n",
       "      <td>0.167</td>\n",
       "      <td>21</td>\n",
       "      <td>0</td>\n",
       "    </tr>\n",
       "    <tr>\n",
       "      <th>4</th>\n",
       "      <td>0</td>\n",
       "      <td>137</td>\n",
       "      <td>40</td>\n",
       "      <td>35</td>\n",
       "      <td>168</td>\n",
       "      <td>43.1</td>\n",
       "      <td>2.288</td>\n",
       "      <td>33</td>\n",
       "      <td>1</td>\n",
       "    </tr>\n",
       "    <tr>\n",
       "      <th>...</th>\n",
       "      <td>...</td>\n",
       "      <td>...</td>\n",
       "      <td>...</td>\n",
       "      <td>...</td>\n",
       "      <td>...</td>\n",
       "      <td>...</td>\n",
       "      <td>...</td>\n",
       "      <td>...</td>\n",
       "      <td>...</td>\n",
       "    </tr>\n",
       "    <tr>\n",
       "      <th>763</th>\n",
       "      <td>10</td>\n",
       "      <td>101</td>\n",
       "      <td>76</td>\n",
       "      <td>48</td>\n",
       "      <td>180</td>\n",
       "      <td>32.9</td>\n",
       "      <td>0.171</td>\n",
       "      <td>63</td>\n",
       "      <td>0</td>\n",
       "    </tr>\n",
       "    <tr>\n",
       "      <th>764</th>\n",
       "      <td>2</td>\n",
       "      <td>122</td>\n",
       "      <td>70</td>\n",
       "      <td>27</td>\n",
       "      <td>0</td>\n",
       "      <td>36.8</td>\n",
       "      <td>0.340</td>\n",
       "      <td>27</td>\n",
       "      <td>0</td>\n",
       "    </tr>\n",
       "    <tr>\n",
       "      <th>765</th>\n",
       "      <td>5</td>\n",
       "      <td>121</td>\n",
       "      <td>72</td>\n",
       "      <td>23</td>\n",
       "      <td>112</td>\n",
       "      <td>26.2</td>\n",
       "      <td>0.245</td>\n",
       "      <td>30</td>\n",
       "      <td>0</td>\n",
       "    </tr>\n",
       "    <tr>\n",
       "      <th>766</th>\n",
       "      <td>1</td>\n",
       "      <td>126</td>\n",
       "      <td>60</td>\n",
       "      <td>0</td>\n",
       "      <td>0</td>\n",
       "      <td>30.1</td>\n",
       "      <td>0.349</td>\n",
       "      <td>47</td>\n",
       "      <td>1</td>\n",
       "    </tr>\n",
       "    <tr>\n",
       "      <th>767</th>\n",
       "      <td>1</td>\n",
       "      <td>93</td>\n",
       "      <td>70</td>\n",
       "      <td>31</td>\n",
       "      <td>0</td>\n",
       "      <td>30.4</td>\n",
       "      <td>0.315</td>\n",
       "      <td>23</td>\n",
       "      <td>0</td>\n",
       "    </tr>\n",
       "  </tbody>\n",
       "</table>\n",
       "<p>757 rows × 9 columns</p>\n",
       "</div>"
      ],
      "text/plain": [
       "     Pregnancies  Glucose  BloodPressure  SkinThickness  Insulin   BMI  \\\n",
       "0              6      148             72             35        0  33.6   \n",
       "1              1       85             66             29        0  26.6   \n",
       "2              8      183             64              0        0  23.3   \n",
       "3              1       89             66             23       94  28.1   \n",
       "4              0      137             40             35      168  43.1   \n",
       "..           ...      ...            ...            ...      ...   ...   \n",
       "763           10      101             76             48      180  32.9   \n",
       "764            2      122             70             27        0  36.8   \n",
       "765            5      121             72             23      112  26.2   \n",
       "766            1      126             60              0        0  30.1   \n",
       "767            1       93             70             31        0  30.4   \n",
       "\n",
       "     DiabetesPedigreeFunction  Age  Outcome  \n",
       "0                       0.627   50        1  \n",
       "1                       0.351   31        0  \n",
       "2                       0.672   32        1  \n",
       "3                       0.167   21        0  \n",
       "4                       2.288   33        1  \n",
       "..                        ...  ...      ...  \n",
       "763                     0.171   63        0  \n",
       "764                     0.340   27        0  \n",
       "765                     0.245   30        0  \n",
       "766                     0.349   47        1  \n",
       "767                     0.315   23        0  \n",
       "\n",
       "[757 rows x 9 columns]"
      ]
     },
     "execution_count": 20,
     "metadata": {},
     "output_type": "execute_result"
    }
   ],
   "source": [
    "df = pd.read_csv('diabetes.csv')\n",
    "df_sub = df.loc[df['BMI']> 0, ]\n",
    "df_sub['Outcome'].value_counts(normalize = True)\n",
    "df_sub"
   ]
  },
  {
   "cell_type": "code",
   "execution_count": 21,
   "id": "03c3a5ac",
   "metadata": {},
   "outputs": [
    {
     "data": {
      "text/plain": [
       "0    0.648613\n",
       "1    0.351387\n",
       "Name: Outcome, dtype: float64"
      ]
     },
     "execution_count": 21,
     "metadata": {},
     "output_type": "execute_result"
    }
   ],
   "source": [
    "df_sub['Outcome'].value_counts(normalize = True) # 사전확률"
   ]
  },
  {
   "cell_type": "code",
   "execution_count": 22,
   "id": "8003f978",
   "metadata": {},
   "outputs": [],
   "source": [
    "# 문제 2"
   ]
  },
  {
   "cell_type": "code",
   "execution_count": 25,
   "id": "14d6eca7",
   "metadata": {},
   "outputs": [],
   "source": [
    "df = pd.read_csv('diabetes.csv')\n",
    "model = GaussianNB().fit(X = df.loc[:,[\"Glucose\", \"BloodPressure\", \"Age\"]], y = df[\"Outcome\"])\n",
    "pred = model.predict_proba(df.loc[:,[\"Glucose\", \"BloodPressure\", \"Age\"]])"
   ]
  },
  {
   "cell_type": "code",
   "execution_count": 26,
   "id": "a30dcb58",
   "metadata": {},
   "outputs": [
    {
     "data": {
      "text/plain": [
       "array([1, 0, 1, 0])"
      ]
     },
     "execution_count": 26,
     "metadata": {},
     "output_type": "execute_result"
    }
   ],
   "source": [
    "pred_class = (pred[:, 1] > 0.5) + 0\n",
    "pred_class[:4]"
   ]
  },
  {
   "cell_type": "code",
   "execution_count": 28,
   "id": "b27f212f",
   "metadata": {},
   "outputs": [
    {
     "data": {
      "text/plain": [
       "0.7552083333333334"
      ]
     },
     "execution_count": 28,
     "metadata": {},
     "output_type": "execute_result"
    }
   ],
   "source": [
    "accuracy_score(y_pred=pred_class, y_true = df['Outcome'])"
   ]
  },
  {
   "cell_type": "code",
   "execution_count": null,
   "id": "36b825eb",
   "metadata": {},
   "outputs": [],
   "source": [
    "# 문제 3"
   ]
  },
  {
   "cell_type": "code",
   "execution_count": 31,
   "id": "feeb4750",
   "metadata": {},
   "outputs": [
    {
     "data": {
      "text/html": [
       "<div>\n",
       "<style scoped>\n",
       "    .dataframe tbody tr th:only-of-type {\n",
       "        vertical-align: middle;\n",
       "    }\n",
       "\n",
       "    .dataframe tbody tr th {\n",
       "        vertical-align: top;\n",
       "    }\n",
       "\n",
       "    .dataframe thead th {\n",
       "        text-align: right;\n",
       "    }\n",
       "</style>\n",
       "<table border=\"1\" class=\"dataframe\">\n",
       "  <thead>\n",
       "    <tr style=\"text-align: right;\">\n",
       "      <th></th>\n",
       "      <th>Pregnancies</th>\n",
       "      <th>Glucose</th>\n",
       "      <th>BloodPressure</th>\n",
       "      <th>SkinThickness</th>\n",
       "      <th>Insulin</th>\n",
       "      <th>BMI</th>\n",
       "      <th>DiabetesPedigreeFunction</th>\n",
       "      <th>Age</th>\n",
       "      <th>Outcome</th>\n",
       "      <th>Age_g</th>\n",
       "      <th>is_preg</th>\n",
       "    </tr>\n",
       "  </thead>\n",
       "  <tbody>\n",
       "    <tr>\n",
       "      <th>0</th>\n",
       "      <td>6</td>\n",
       "      <td>148</td>\n",
       "      <td>72</td>\n",
       "      <td>35</td>\n",
       "      <td>0</td>\n",
       "      <td>33.6</td>\n",
       "      <td>0.627</td>\n",
       "      <td>50</td>\n",
       "      <td>1</td>\n",
       "      <td>50</td>\n",
       "      <td>1</td>\n",
       "    </tr>\n",
       "    <tr>\n",
       "      <th>1</th>\n",
       "      <td>1</td>\n",
       "      <td>85</td>\n",
       "      <td>66</td>\n",
       "      <td>29</td>\n",
       "      <td>0</td>\n",
       "      <td>26.6</td>\n",
       "      <td>0.351</td>\n",
       "      <td>31</td>\n",
       "      <td>0</td>\n",
       "      <td>30</td>\n",
       "      <td>1</td>\n",
       "    </tr>\n",
       "  </tbody>\n",
       "</table>\n",
       "</div>"
      ],
      "text/plain": [
       "   Pregnancies  Glucose  BloodPressure  SkinThickness  Insulin   BMI  \\\n",
       "0            6      148             72             35        0  33.6   \n",
       "1            1       85             66             29        0  26.6   \n",
       "\n",
       "   DiabetesPedigreeFunction  Age  Outcome  Age_g  is_preg  \n",
       "0                     0.627   50        1     50        1  \n",
       "1                     0.351   31        0     30        1  "
      ]
     },
     "execution_count": 31,
     "metadata": {},
     "output_type": "execute_result"
    }
   ],
   "source": [
    "df = df.loc[df['BMI'] > 0, ]\n",
    "df[\"Age_g\"] = (df[\"Age\"] // 10) * 10\n",
    "df[\"is_preg\"] = (df[\"Pregnancies\"] > 0) + 0\n",
    "df.head(2)"
   ]
  },
  {
   "cell_type": "code",
   "execution_count": 32,
   "id": "11643954",
   "metadata": {},
   "outputs": [],
   "source": [
    "from sklearn.model_selection import train_test_split"
   ]
  },
  {
   "cell_type": "code",
   "execution_count": 33,
   "id": "9d832b08",
   "metadata": {},
   "outputs": [],
   "source": [
    "df_train, df_test = train_test_split(df, train_size=0.8, random_state = 123)"
   ]
  },
  {
   "cell_type": "code",
   "execution_count": 37,
   "id": "82bcc935",
   "metadata": {},
   "outputs": [
    {
     "data": {
      "text/plain": [
       "array([[0.09436402, 0.90563598],\n",
       "       [0.74783283, 0.25216717],\n",
       "       [0.11042961, 0.88957039],\n",
       "       [0.57991266, 0.42008734]])"
      ]
     },
     "execution_count": 37,
     "metadata": {},
     "output_type": "execute_result"
    }
   ],
   "source": [
    "# 베이즈\n",
    "model = GaussianNB().fit(X= df_train.loc[:, [\"is_preg\", \"Age_g\", \"BMI\", \"Glucose\"]], y = df_train['Outcome'])\n",
    "pred = model.predict_proba(df_test.loc[:, [\"is_preg\", \"Age_g\", \"BMI\", \"Glucose\"]])\n",
    "pred[:4, ]                           "
   ]
  },
  {
   "cell_type": "code",
   "execution_count": 40,
   "id": "74523e90",
   "metadata": {},
   "outputs": [
    {
     "data": {
      "text/plain": [
       "0.8026315789473685"
      ]
     },
     "execution_count": 40,
     "metadata": {},
     "output_type": "execute_result"
    }
   ],
   "source": [
    "accuracy_score(y_pred = (pred[:, 1] >0.5) + 0 , y_true = df_test['Outcome'])"
   ]
  },
  {
   "cell_type": "code",
   "execution_count": 41,
   "id": "cac0666c",
   "metadata": {},
   "outputs": [],
   "source": [
    "from sklearn.linear_model import LogisticRegression"
   ]
  },
  {
   "cell_type": "code",
   "execution_count": 42,
   "id": "4e14b767",
   "metadata": {},
   "outputs": [
    {
     "data": {
      "text/plain": [
       "LogisticRegression()"
      ]
     },
     "execution_count": 42,
     "metadata": {},
     "output_type": "execute_result"
    }
   ],
   "source": [
    "model_lr = LogisticRegression()\n",
    "model_lr.fit(X= df_train.loc[:, [\"is_preg\", \"Age_g\", \"BMI\", \"Glucose\"]], y = df_train['Outcome'])"
   ]
  },
  {
   "cell_type": "code",
   "execution_count": 43,
   "id": "43206157",
   "metadata": {},
   "outputs": [],
   "source": [
    "pred_lr = model_lr.predict_proba(df_test.loc[:, [\"is_preg\", \"Age_g\", \"BMI\", \"Glucose\"]])\n",
    "pred_lr = pred_lr[:, 1]\n",
    "pred_lr_class = (pred_lr > 0.5) + 0"
   ]
  },
  {
   "cell_type": "code",
   "execution_count": 45,
   "id": "29e8d31a",
   "metadata": {},
   "outputs": [
    {
     "data": {
      "text/plain": [
       "0.8289473684210527"
      ]
     },
     "execution_count": 45,
     "metadata": {},
     "output_type": "execute_result"
    }
   ],
   "source": [
    "accuracy_score(y_pred = pred_lr_class, y_true = df_test['Outcome'])"
   ]
  },
  {
   "cell_type": "code",
   "execution_count": null,
   "id": "e35d66eb",
   "metadata": {},
   "outputs": [],
   "source": []
  },
  {
   "cell_type": "code",
   "execution_count": null,
   "id": "34a6aef4",
   "metadata": {},
   "outputs": [],
   "source": []
  },
  {
   "cell_type": "code",
   "execution_count": null,
   "id": "6c06d5e6",
   "metadata": {},
   "outputs": [],
   "source": []
  },
  {
   "cell_type": "code",
   "execution_count": null,
   "id": "38d5f256",
   "metadata": {},
   "outputs": [],
   "source": []
  },
  {
   "cell_type": "code",
   "execution_count": null,
   "id": "be53d9d1",
   "metadata": {},
   "outputs": [],
   "source": []
  },
  {
   "cell_type": "code",
   "execution_count": 29,
   "id": "13951045",
   "metadata": {},
   "outputs": [
    {
     "data": {
      "text/plain": [
       "6"
      ]
     },
     "execution_count": 29,
     "metadata": {},
     "output_type": "execute_result"
    }
   ],
   "source": []
  },
  {
   "cell_type": "code",
   "execution_count": null,
   "id": "1c1197af",
   "metadata": {},
   "outputs": [],
   "source": []
  },
  {
   "cell_type": "code",
   "execution_count": null,
   "id": "4b76b405",
   "metadata": {},
   "outputs": [],
   "source": []
  },
  {
   "cell_type": "code",
   "execution_count": null,
   "id": "ce70c3d5",
   "metadata": {},
   "outputs": [],
   "source": []
  }
 ],
 "metadata": {
  "kernelspec": {
   "display_name": "Python 3",
   "language": "python",
   "name": "python3"
  },
  "language_info": {
   "codemirror_mode": {
    "name": "ipython",
    "version": 3
   },
   "file_extension": ".py",
   "mimetype": "text/x-python",
   "name": "python",
   "nbconvert_exporter": "python",
   "pygments_lexer": "ipython3",
   "version": "3.8.7"
  }
 },
 "nbformat": 4,
 "nbformat_minor": 5
}
